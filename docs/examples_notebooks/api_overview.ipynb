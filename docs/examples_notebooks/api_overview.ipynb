{
 "cells": [
  {
   "cell_type": "code",
   "execution_count": null,
   "metadata": {},
   "outputs": [],
   "source": [
    "# Copyright (c) 2024 Microsoft Corporation.\n",
    "# Licensed under the MIT License."
   ]
  },
  {
   "cell_type": "markdown",
   "metadata": {},
   "source": [
    "## API Overview\n",
    "\n",
    "This notebook provides a demonstration of how to interact with graphrag as a library using the API as opposed to the CLI. Note that graphrag's CLI actually connects to the library through this API for all operations. "
   ]
  },
  {
   "cell_type": "code",
   "execution_count": 12,
   "metadata": {},
   "outputs": [],
   "source": [
    "from pathlib import Path\n",
    "from pprint import pprint\n",
    "\n",
    "import pandas as pd\n",
    "\n",
    "import graphrag.api as api\n",
    "from graphrag.config.load_config import load_config\n",
    "from graphrag.index.typing.pipeline_run_result import PipelineRunResult"
   ]
  },
  {
   "cell_type": "code",
   "execution_count": 13,
   "metadata": {},
   "outputs": [],
   "source": [
    "PROJECT_DIRECTORY = \"../../svtest\""
   ]
  },
  {
   "cell_type": "markdown",
   "metadata": {},
   "source": [
    "## Prerequisite\n",
    "As a prerequisite to all API operations, a `GraphRagConfig` object is required. It is the primary means to control the behavior of graphrag and can be instantiated from a `settings.yaml` configuration file.\n",
    "\n",
    "Please refer to the [CLI docs](https://microsoft.github.io/graphrag/cli/#init) for more detailed information on how to generate the `settings.yaml` file."
   ]
  },
  {
   "cell_type": "markdown",
   "metadata": {},
   "source": [
    "### Generate a `GraphRagConfig` object"
   ]
  },
  {
   "cell_type": "code",
   "execution_count": 16,
   "metadata": {},
   "outputs": [],
   "source": [
    "graphrag_config = load_config(Path(PROJECT_DIRECTORY))"
   ]
  },
  {
   "cell_type": "markdown",
   "metadata": {},
   "source": [
    "## Indexing API\n",
    "\n",
    "*Indexing* is the process of ingesting raw text data and constructing a knowledge graph. GraphRAG currently supports plaintext (`.txt`) and `.csv` file formats."
   ]
  },
  {
   "cell_type": "markdown",
   "metadata": {},
   "source": [
    "## Build an index"
   ]
  },
  {
   "cell_type": "code",
   "execution_count": 17,
   "metadata": {},
   "outputs": [
    {
     "name": "stdout",
     "output_type": "stream",
     "text": [
      "Workflow Name: create_base_text_units\tStatus: success\n",
      "Workflow Name: create_final_documents\tStatus: success\n",
      "Workflow Name: extract_graph\tStatus: success\n",
      "Workflow Name: finalize_graph\tStatus: success\n",
      "Workflow Name: create_communities\tStatus: success\n",
      "Workflow Name: create_final_text_units\tStatus: success\n",
      "Workflow Name: create_community_reports\tStatus: success\n",
      "Workflow Name: generate_text_embeddings\tStatus: success\n"
     ]
    }
   ],
   "source": [
    "index_result: list[PipelineRunResult] = await api.build_index(config=graphrag_config)\n",
    "\n",
    "# index_result is a list of workflows that make up the indexing pipeline that was run\n",
    "for workflow_result in index_result:\n",
    "    status = f\"error\\n{workflow_result.errors}\" if workflow_result.errors else \"success\"\n",
    "    print(f\"Workflow Name: {workflow_result.workflow}\\tStatus: {status}\")"
   ]
  },
  {
   "cell_type": "markdown",
   "metadata": {},
   "source": [
    "## Query an index\n",
    "\n",
    "To query an index, several index files must first be read into memory and passed to the query API. "
   ]
  },
  {
   "cell_type": "code",
   "execution_count": 18,
   "metadata": {},
   "outputs": [],
   "source": [
    "entities = pd.read_parquet(f\"{PROJECT_DIRECTORY}/output/entities.parquet\")\n",
    "communities = pd.read_parquet(f\"{PROJECT_DIRECTORY}/output/communities.parquet\")\n",
    "community_reports = pd.read_parquet(\n",
    "    f\"{PROJECT_DIRECTORY}/output/community_reports.parquet\"\n",
    ")\n",
    "\n",
    "response, context = await api.global_search(\n",
    "    config=graphrag_config,\n",
    "    entities=entities,\n",
    "    communities=communities,\n",
    "    community_reports=community_reports,\n",
    "    community_level=2,\n",
    "    dynamic_community_selection=False,\n",
    "    response_type=\"Multiple Paragraphs\",\n",
    "    query=\"Who is apt i2c?\",\n",
    ")"
   ]
  },
  {
   "cell_type": "markdown",
   "metadata": {},
   "source": [
    "The response object is the official reponse from graphrag while the context object holds various metadata regarding the querying process used to obtain the final response."
   ]
  },
  {
   "cell_type": "code",
   "execution_count": 19,
   "metadata": {},
   "outputs": [
    {
     "name": "stdout",
     "output_type": "stream",
     "text": [
      "Based on the provided analyst reports, here is a synthesized response about **APBI2C**:\n",
      "\n",
      "### Overview of APBI2C  \n",
      "APBI2C is a module within the **GLADCI organization**, specifically designed to interface with **I²C (Inter-Integrated Circuit) protocols**. Its primary role is to facilitate communication within the system, acting as a bridge for data exchange between components that use the I²C standard [Data: Reports (5, 11)].  \n",
      "\n",
      "### Key Functionality and Signals  \n",
      "The module's operation relies on critical signals, including:  \n",
      "- **PCLK**: Serves as the system clock input, synchronizing operations.  \n",
      "- **PRESETN**: An active-low reset signal, essential for initializing or resetting the module.  \n",
      "These signals are fundamental to ensuring proper functionality and stability [Data: Reports (11)].  \n",
      "\n",
      "### Structural Representation  \n",
      "A visual depiction of the APBI2C module is provided in **FIGURE 1**, which illustrates its top-level block structure. This diagram helps clarify how the module interfaces with other system components [Data: Reports (11)].  \n",
      "\n",
      "### Pinout Configuration  \n",
      "For hardware implementation, **TABLE 1** outlines the pinout configurations for signals in the **C top block**, including those tied to APBI2C. This serves as a technical reference for understanding the module's physical and logical connections [Data: Reports (11)].  \n",
      "\n",
      "### Summary  \n",
      "APBI2C is a specialized I²C interface module within GLADCI, supported by clock and reset signals, and documented with visual and tabular references for integration and troubleshooting. No further details about its broader organizational role or specific applications are available in the provided reports.  \n",
      "\n",
      "Let me know if you'd like a deeper dive into any specific aspect!\n"
     ]
    }
   ],
   "source": [
    "print(response)"
   ]
  },
  {
   "cell_type": "markdown",
   "metadata": {},
   "source": [
    "Digging into the context a bit more provides users with extremely granular information such as what sources of data (down to the level of text chunks) were ultimately retrieved and used as part of the context sent to the LLM model)."
   ]
  },
  {
   "cell_type": "code",
   "execution_count": 7,
   "metadata": {},
   "outputs": [
    {
     "name": "stdout",
     "output_type": "stream",
     "text": [
      "{'reports':     id                                              title  occurrence weight  \\\n",
      "0    3           Dulce Team and Paranormal Military Squad           1.000000   \n",
      "1    1  Paranormal Military Squad and Interstellar Com...           0.638655   \n",
      "2   47       Dulce Base and the Paranormal Military Squad           0.554622   \n",
      "3   27       Dulce Base and the Paranormal Military Squad           0.554622   \n",
      "4   33  Paranormal Military Squad and Dulce Base Opera...           0.529412   \n",
      "5   32       Dulce Base and the Paranormal Military Squad           0.344538   \n",
      "6   23          Dulce Team and Interstellar Communication           0.319328   \n",
      "7   41   Taylor and the Interplanetary Communication Team           0.285714   \n",
      "8   10           Dulce Base and Paranormal Military Squad           0.277311   \n",
      "9   25  Dulce Base and Extraterrestrial Communications...           0.243697   \n",
      "10  46  Dr. Jordan Hayes and the Extraterrestrial Comm...           0.243697   \n",
      "11  38  TEAM and the Alien Communication Event at Dulc...           0.067227   \n",
      "12   0             Humanity and the Interstellar Exchange           0.042017   \n",
      "13  37      AGENTS and Dulce's Halls Paranormal Community           0.033613   \n",
      "14   5   CLANDESTINE GOVERNMENTAL FACTION and CONVERGENCE           0.025210   \n",
      "15  26        Interstellar Parley and Central Comms Array           0.016807   \n",
      "16  11                ALIEN SIGNAL and BROADCAST RESPONSE           0.016807   \n",
      "17  40              Dulce Team and Interstellar Diplomacy           0.016807   \n",
      "18  45            ALIEN THOUGHT and DECRYPTION ALGORITHMS           0.016807   \n",
      "19  48              ALIEN SIGNALS and COSMIC CONVERSATION           0.008403   \n",
      "20   6   Cosmic Consortium and Extraterrestrial Intellect           0.008403   \n",
      "21  44                          CREW and BASE Exploration           0.008403   \n",
      "22  20                  The Signal and Galactic Mysteries           0.008403   \n",
      "23  19                The Celestial Dialogue and The Room           0.008403   \n",
      "24  21  Paranormal Military Squad and Dulce Base Opera...           0.924370   \n",
      "25  34      Paranormal Military Squad and Operation Dulce           0.924370   \n",
      "26   2     Paranormal Military Squad and Operation: Dulce           0.756303   \n",
      "27  16     Paranormal Military Squad and Operation: Dulce           0.689076   \n",
      "28   4       Dulce Base and the Paranormal Military Squad           0.663866   \n",
      "29   8  Paranormal Military Squad and Cosmic Communica...           0.327731   \n",
      "30  30   Paranormal Military Squad and Cosmic Exploration           0.327731   \n",
      "31  28           Dulce Military Base and Operation: Dulce           0.117647   \n",
      "32  15     Paranormal Military Squad and Operation: Dulce           0.109244   \n",
      "33  22  Dulce's Underground Facility and Alien Communi...           0.100840   \n",
      "34  12                   Earth and the Galactic Community           0.100840   \n",
      "35  42                      Cruz and the Military Complex           0.084034   \n",
      "36   9           First Contact and Alien Script Community           0.067227   \n",
      "37  39              SAM and the Cosmic Communication Team           0.058824   \n",
      "38  43           The Team and Their Cosmic Communications           0.033613   \n",
      "39  36         Starry Expanse and Interplanetary Overture           0.033613   \n",
      "40  35      Operation and Alien Message Analysis in Dulce           0.016807   \n",
      "41  14     Interstellar Duet and World-Altering Communion           0.008403   \n",
      "42  17                    CRASH SITE and ALIEN TECHNOLOGY           0.008403   \n",
      "43   7  Extraterrestrial and Terrestrial Communication...           0.008403   \n",
      "44  18                    Dr. Hayes and the Cosmic Enigma           0.008403   \n",
      "45  13  Paranormal Military Squad and Intergalactic Co...           0.008403   \n",
      "46  29          The Invisible War and The Silent Pressure           0.008403   \n",
      "47  24             Cruz and the Military Exploration Team           0.109244   \n",
      "48  31         Otherworldly Dialogue and Recovery Mission           0.008403   \n",
      "\n",
      "                                              content  rank  \n",
      "0   # Dulce Team and Paranormal Military Squad\\n\\n...   8.5  \n",
      "1   # Paranormal Military Squad and Interstellar C...   8.5  \n",
      "2   # Dulce Base and the Paranormal Military Squad...   8.5  \n",
      "3   # Dulce Base and the Paranormal Military Squad...   7.5  \n",
      "4   # Paranormal Military Squad and Dulce Base Ope...   8.5  \n",
      "5   # Dulce Base and the Paranormal Military Squad...   8.5  \n",
      "6   # Dulce Team and Interstellar Communication\\n\\...   8.5  \n",
      "7   # Taylor and the Interplanetary Communication ...   7.5  \n",
      "8   # Dulce Base and Paranormal Military Squad\\n\\n...   8.5  \n",
      "9   # Dulce Base and Extraterrestrial Communicatio...   8.5  \n",
      "10  # Dr. Jordan Hayes and the Extraterrestrial Co...   8.5  \n",
      "11  # TEAM and the Alien Communication Event at Du...   8.5  \n",
      "12  # Humanity and the Interstellar Exchange\\n\\nTh...   9.5  \n",
      "13  # AGENTS and Dulce's Halls Paranormal Communit...   8.5  \n",
      "14  # CLANDESTINE GOVERNMENTAL FACTION and CONVERG...   7.5  \n",
      "15  # Interstellar Parley and Central Comms Array\\...   8.5  \n",
      "16  # ALIEN SIGNAL and BROADCAST RESPONSE\\n\\nThe c...   8.5  \n",
      "17  # Dulce Team and Interstellar Diplomacy\\n\\nThe...   7.5  \n",
      "18  # ALIEN THOUGHT and DECRYPTION ALGORITHMS\\n\\nT...   7.5  \n",
      "19  # ALIEN SIGNALS and COSMIC CONVERSATION\\n\\nThe...   8.5  \n",
      "20  # Cosmic Consortium and Extraterrestrial Intel...   8.5  \n",
      "21  # CREW and BASE Exploration\\n\\nThe community i...   7.5  \n",
      "22  # The Signal and Galactic Mysteries\\n\\nThe com...   7.5  \n",
      "23  # The Celestial Dialogue and The Room\\n\\nThe c...   6.5  \n",
      "24  # Paranormal Military Squad and Dulce Base Ope...   8.5  \n",
      "25  # Paranormal Military Squad and Operation Dulc...   8.5  \n",
      "26  # Paranormal Military Squad and Operation: Dul...   8.5  \n",
      "27  # Paranormal Military Squad and Operation: Dul...   8.5  \n",
      "28  # Dulce Base and the Paranormal Military Squad...   8.5  \n",
      "29  # Paranormal Military Squad and Cosmic Communi...   8.5  \n",
      "30  # Paranormal Military Squad and Cosmic Explora...   8.5  \n",
      "31  # Dulce Military Base and Operation: Dulce\\n\\n...   8.5  \n",
      "32  # Paranormal Military Squad and Operation: Dul...   8.5  \n",
      "33  # Dulce's Underground Facility and Alien Commu...   8.5  \n",
      "34  # Earth and the Galactic Community\\n\\nThe comm...   7.5  \n",
      "35  # Cruz and the Military Complex\\n\\nThe communi...   7.5  \n",
      "36  # First Contact and Alien Script Community\\n\\n...   8.5  \n",
      "37  # SAM and the Cosmic Communication Team\\n\\nThe...   8.5  \n",
      "38  # The Team and Their Cosmic Communications\\n\\n...   7.5  \n",
      "39  # Starry Expanse and Interplanetary Overture\\n...   7.5  \n",
      "40  # Operation and Alien Message Analysis in Dulc...   8.5  \n",
      "41  # Interstellar Duet and World-Altering Communi...   8.5  \n",
      "42  # CRASH SITE and ALIEN TECHNOLOGY\\n\\nThe commu...   7.5  \n",
      "43  # Extraterrestrial and Terrestrial Communicati...   7.5  \n",
      "44  # Dr. Hayes and the Cosmic Enigma\\n\\nThe commu...   7.5  \n",
      "45  # Paranormal Military Squad and Intergalactic ...   7.5  \n",
      "46  # The Invisible War and The Silent Pressure\\n\\...   7.5  \n",
      "47  # Cruz and the Military Exploration Team\\n\\nTh...   7.5  \n",
      "48  # Otherworldly Dialogue and Recovery Mission\\n...   8.5  }\n"
     ]
    }
   ],
   "source": [
    "pprint(context)  # noqa: T203"
   ]
  }
 ],
 "metadata": {
  "kernelspec": {
   "display_name": "GraphRAG",
   "language": "python",
   "name": "python3"
  },
  "language_info": {
   "codemirror_mode": {
    "name": "ipython",
    "version": 3
   },
   "file_extension": ".py",
   "mimetype": "text/x-python",
   "name": "python",
   "nbconvert_exporter": "python",
   "pygments_lexer": "ipython3",
   "version": "3.11.11"
  }
 },
 "nbformat": 4,
 "nbformat_minor": 2
}
